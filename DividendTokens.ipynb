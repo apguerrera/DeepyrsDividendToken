{
 "cells": [
  {
   "cell_type": "markdown",
   "metadata": {},
   "source": [
    "# Interacting with Ethereum using web3.py and Jupyter Notebooks\n",
    "Step by step guide for setting up a Jupyter notebook, connecting to an Ethereum node and working with a Smart Contract.\n",
    "\n",
    "In this tutorial we are using Python 3, so make sure that **python** and **pip** are versioned correctly.\n",
    "<hr>"
   ]
  },
  {
   "cell_type": "markdown",
   "metadata": {},
   "source": [
    "## STEP 0: Getting tutorial materials\n",
    "\n",
    "Grab a copy of the files that we use in this tutorial:\n",
    "\n",
    "+ Using Git:\n",
    "\n",
    "    <code>git clone https://github.com/apguerrera/ethereum-notebooks.git</code>\n",
    "\n",
    "\n",
    "+ Or download it manually from https://github.com/apguerrera/ethereum-notebooks\n",
    "\n",
    "<hr>"
   ]
  },
  {
   "cell_type": "markdown",
   "metadata": {},
   "source": [
    "## STEP 1: Installing dependencies\n",
    "+ Install [Jupyter](https://jupyter.org/)\n",
    "\n",
    "    <code>pip install --upgrade pip</code>\n",
    "\n",
    "    <code>pip install jupyter</code>\n",
    "\n",
    "\n",
    "+ Install [Web3.py](https://web3py.readthedocs.io/en/stable/), Python module for accessing Ethereum blockchain\n",
    "\n",
    "    <code>pip install web3</code>\n",
    "\n",
    "\n",
    "+ Install [py-solc-x](https://pypi.org/project/py-solc-x/), Python module for compiling Solidity contracts\n",
    "\n",
    "    We use **py-solc-x** instead of **py-solc** to compile contracts, since py-solc doesn't support Solidity versions v.0.5.x.\n",
    "    \n",
    "    Also **py-solc-x** provides an ability to choose between different Solidity compiler versions.\n",
    "    \n",
    "    <code>pip install py-solc-x</code>\n",
    "    \n",
    "    Note: the module itself doesn't contain **solc** executable, so let's install solc executable version 0.5.3 that we use in this tutorial\n",
    "    \n",
    "    <code>python -m solcx.install v0.5.3</code>\n",
    "\n",
    "\n",
    "+ To install Geth go to https://ethereum.org/cli and follow the instructions\n",
    "\n",
    "<hr>"
   ]
  },
  {
   "cell_type": "code",
   "execution_count": 11,
   "metadata": {},
   "outputs": [
    {
     "name": "stdout",
     "output_type": "stream",
     "text": [
      "Requirement already up-to-date: pip in /Users/adrian/anaconda3/lib/python3.6/site-packages (19.0.3)\n",
      "Requirement already satisfied: web3 in /Users/adrian/anaconda3/lib/python3.6/site-packages (4.8.1)\n",
      "Requirement already satisfied: eth-account<0.4.0,>=0.2.1 in /Users/adrian/anaconda3/lib/python3.6/site-packages (from web3) (0.2.3)\n",
      "Requirement already satisfied: cytoolz<1.0.0,>=0.9.0; implementation_name == \"cpython\" in /Users/adrian/anaconda3/lib/python3.6/site-packages (from web3) (0.9.0.1)\n",
      "Requirement already satisfied: lru-dict<2.0.0,>=1.1.6 in /Users/adrian/anaconda3/lib/python3.6/site-packages (from web3) (1.1.6)\n",
      "Requirement already satisfied: eth-utils<2.0.0,>=1.2.0 in /Users/adrian/anaconda3/lib/python3.6/site-packages (from web3) (1.2.2)\n",
      "Requirement already satisfied: eth-abi<2.0.0,>=1.2.0 in /Users/adrian/anaconda3/lib/python3.6/site-packages (from web3) (1.2.2)\n",
      "Requirement already satisfied: requests<3.0.0,>=2.16.0 in /Users/adrian/anaconda3/lib/python3.6/site-packages (from web3) (2.21.0)\n",
      "Requirement already satisfied: eth-hash[pycryptodome]<1.0.0,>=0.2.0 in /Users/adrian/anaconda3/lib/python3.6/site-packages (from web3) (0.2.0)\n",
      "Requirement already satisfied: hexbytes<1.0.0,>=0.1.0 in /Users/adrian/anaconda3/lib/python3.6/site-packages (from web3) (0.1.0)\n",
      "Requirement already satisfied: websockets<7.0.0,>=6.0.0 in /Users/adrian/anaconda3/lib/python3.6/site-packages (from web3) (6.0)\n",
      "Requirement already satisfied: eth-keyfile<0.6.0,>=0.5.0 in /Users/adrian/anaconda3/lib/python3.6/site-packages (from eth-account<0.4.0,>=0.2.1->web3) (0.5.1)\n",
      "Requirement already satisfied: attrdict<3,>=2.0.0 in /Users/adrian/anaconda3/lib/python3.6/site-packages (from eth-account<0.4.0,>=0.2.1->web3) (2.0.0)\n",
      "Requirement already satisfied: eth-rlp<1,>=0.1.2 in /Users/adrian/anaconda3/lib/python3.6/site-packages (from eth-account<0.4.0,>=0.2.1->web3) (0.1.2)\n",
      "Requirement already satisfied: eth-keys<0.3.0,>=0.2.0b3 in /Users/adrian/anaconda3/lib/python3.6/site-packages (from eth-account<0.4.0,>=0.2.1->web3) (0.2.0b3)\n",
      "Requirement already satisfied: toolz>=0.8.0 in /Users/adrian/anaconda3/lib/python3.6/site-packages (from cytoolz<1.0.0,>=0.9.0; implementation_name == \"cpython\"->web3) (0.9.0)\n",
      "Requirement already satisfied: eth-typing<2.0.0,>=1.3.0 in /Users/adrian/anaconda3/lib/python3.6/site-packages (from eth-utils<2.0.0,>=1.2.0->web3) (1.3.0)\n",
      "Requirement already satisfied: parsimonious<0.9.0,>=0.8.0 in /Users/adrian/anaconda3/lib/python3.6/site-packages (from eth-abi<2.0.0,>=1.2.0->web3) (0.8.1)\n",
      "Requirement already satisfied: chardet<3.1.0,>=3.0.2 in /Users/adrian/anaconda3/lib/python3.6/site-packages (from requests<3.0.0,>=2.16.0->web3) (3.0.4)\n",
      "Requirement already satisfied: idna<2.9,>=2.5 in /Users/adrian/anaconda3/lib/python3.6/site-packages (from requests<3.0.0,>=2.16.0->web3) (2.8)\n",
      "Requirement already satisfied: urllib3<1.25,>=1.21.1 in /Users/adrian/anaconda3/lib/python3.6/site-packages (from requests<3.0.0,>=2.16.0->web3) (1.24.1)\n",
      "Requirement already satisfied: certifi>=2017.4.17 in /Users/adrian/anaconda3/lib/python3.6/site-packages (from requests<3.0.0,>=2.16.0->web3) (2018.11.29)\n",
      "Requirement already satisfied: pycryptodome<4,>=3.6.6; extra == \"pycryptodome\" in /Users/adrian/anaconda3/lib/python3.6/site-packages (from eth-hash[pycryptodome]<1.0.0,>=0.2.0->web3) (3.7.0)\n",
      "Requirement already satisfied: six in /Users/adrian/anaconda3/lib/python3.6/site-packages (from attrdict<3,>=2.0.0->eth-account<0.4.0,>=0.2.1->web3) (1.12.0)\n",
      "Requirement already satisfied: rlp<2,>=0.6.0 in /Users/adrian/anaconda3/lib/python3.6/site-packages (from eth-rlp<1,>=0.1.2->eth-account<0.4.0,>=0.2.1->web3) (0.6.0)\n",
      "Requirement already satisfied: py-solc-x in /Users/adrian/anaconda3/lib/python3.6/site-packages (0.1.0)\n",
      "Requirement already satisfied: requests>=2.9.1 in /Users/adrian/anaconda3/lib/python3.6/site-packages (from py-solc-x) (2.21.0)\n",
      "Requirement already satisfied: semantic-version>=2.6.0 in /Users/adrian/anaconda3/lib/python3.6/site-packages (from py-solc-x) (2.6.0)\n",
      "Requirement already satisfied: chardet<3.1.0,>=3.0.2 in /Users/adrian/anaconda3/lib/python3.6/site-packages (from requests>=2.9.1->py-solc-x) (3.0.4)\n",
      "Requirement already satisfied: certifi>=2017.4.17 in /Users/adrian/anaconda3/lib/python3.6/site-packages (from requests>=2.9.1->py-solc-x) (2018.11.29)\n",
      "Requirement already satisfied: idna<2.9,>=2.5 in /Users/adrian/anaconda3/lib/python3.6/site-packages (from requests>=2.9.1->py-solc-x) (2.8)\n",
      "Requirement already satisfied: urllib3<1.25,>=1.21.1 in /Users/adrian/anaconda3/lib/python3.6/site-packages (from requests>=2.9.1->py-solc-x) (1.24.1)\n"
     ]
    }
   ],
   "source": [
    "!pip install --upgrade pip\n",
    "!pip install web3\n",
    "!pip install py-solc-x"
   ]
  },
  {
   "cell_type": "markdown",
   "metadata": {},
   "source": [
    "## STEP 2: Running local Geth node\n",
    "\n",
    "+ Go to the project directory and run in your terminal:\n",
    "\n",
    " <code>./00_runGeth.sh</code> \n",
    "\n",
    "\n",
    "+ Or use  \n",
    "\n",
    "<code>geth --dev --dev.period 2 --datadir ./testchain --rpc --rpccorsdomain ‘*’ --rpcport 8646 --rpcapi “eth,net,web3,debug” --port 32323 --maxpeers 0 console</code> \n",
    "\n",
    "script which is doing exactly the same\n",
    "\n",
    "\n",
    "<hr>"
   ]
  },
  {
   "cell_type": "markdown",
   "metadata": {},
   "source": [
    "## STEP 3: Running Jupyter notebook\n",
    "\n",
    "**If you're already viewing this notebook in Jupyter live mode, just skip this step.**\n",
    "\n",
    "+ Open Jupyter notebooks by running the following in your terminal:\n",
    "\n",
    "    <code>./01_runNotebook.sh</code>\n",
    "    \n",
    "\n",
    "+ If you see an error message, try:\n",
    "\n",
    "    <code>jupyter-notebook</code>\n",
    "\n",
    "It will open up a window in your browser. Here you need to go to the project folder and open <code>EthereumNotebookNew.ipynb</code>\n",
    "\n",
    "<hr>"
   ]
  },
  {
   "cell_type": "markdown",
   "metadata": {},
   "source": [
    "## STEP 4: Conecting to Web3\n",
    "Web3 has a provider type that lets you connect to a local Ethereum node or endpoint such as [Infura](https://infura.io/).\n",
    "\n",
    "In our example, we’ll be connecting to a local Geth node running from the /testchain directory, but can be set to any Ethereum node that web3 can connect to."
   ]
  },
  {
   "cell_type": "code",
   "execution_count": 12,
   "metadata": {},
   "outputs": [
    {
     "data": {
      "text/plain": [
       "True"
      ]
     },
     "execution_count": 12,
     "metadata": {},
     "output_type": "execute_result"
    }
   ],
   "source": [
    "from web3 import Web3\n",
    "w3 = Web3(Web3.IPCProvider('./testchain/geth.ipc'))\n",
    "w3.isConnected()  # if it's false, something went wrong"
   ]
  },
  {
   "cell_type": "code",
   "execution_count": 13,
   "metadata": {},
   "outputs": [
    {
     "data": {
      "text/plain": [
       "['0xa00Af22D07c87d96EeeB0Ed583f8F6AC7812827E',\n",
       " '0xa11AAE29840fBb5c86E6fd4cF809EBA183AEf433',\n",
       " '0xa22AB8A9D641CE77e06D98b7D7065d324D3d6976',\n",
       " '0xa33a6c312D9aD0E0F2E95541BeED0Cc081621fd0',\n",
       " '0xa44a08d3F6933c69212114bb66E2Df1813651844',\n",
       " '0xa55A151Eb00fded1634D27D1127b4bE4627079EA',\n",
       " '0xa66a85ede0CBE03694AA9d9dE0BB19c99ff55bD9',\n",
       " '0xa77A2b9D4B1c010A22A7c565Dc418cef683DbceC',\n",
       " '0xA88A05d2b88283ce84C8325760B72a64591279a2',\n",
       " '0xa99A0Ae3354c06B1459fd441a32a3F71005D7Da0',\n",
       " '0xAAAA9De1E6C564446EBCA0fd102D8Bd92093c756',\n",
       " '0xaBBa43E7594E3B76afB157989e93c6621497FD4b',\n",
       " '0xacCa534c9f62Ab495bd986e002DdF0f054caAE4f',\n",
       " '0xAddA9B762A00FF12711113bfDc36958B73d7F915',\n",
       " '0xaeEa63B5479B50F79583ec49DACdcf86DDEff392',\n",
       " '0xaFfa4D3A80Add8CE4018540e056DACb649589394',\n",
       " '0xB00bfdE102270687324F9205b693859df64F8923',\n",
       " '0xB11Be1D4EF8E94d01cB2695092A79d139A8DAD98',\n",
       " '0xB22BE2D9eEF0d7E260CF96A64FEEa0B95ED3E74f',\n",
       " '0xB33B7ecf5E47BE3981c74d989d3Af8b665b4B649',\n",
       " '0xB44B43d59b738B088b690aE276C1E979aBa8268D',\n",
       " '0xb55B57D113b45481E31AaF03D6F4e5Ad4ef325F8',\n",
       " '0xb66BCB4e473De80E2C8A47CED10c22c705A5e602',\n",
       " '0xB77BbBaa7c1649547Ae61de4B80B91568c28351A',\n",
       " '0xB88B728490B417E29b0784Db30535dB343830dba',\n",
       " '0xB99B3d1f72eDb05a0321dB58eddcF83FD73C4aDe',\n",
       " '0xBaAb56DA883EDBe5314b8005BE410022c510cCae',\n",
       " '0xbbbB9809DE0456Ce0E0Cd660E6E4CeabEf3F521c',\n",
       " '0xBccB68DD0Ac87EF290aeF49870d155F076C87868',\n",
       " '0xbDDB726ee06906e104DB210E6d0506F2B062e477',\n",
       " '0xbeEB24ff18203658D0a1d4682ee3f36ad663eC87',\n",
       " '0xbFfBd8F029EF0BD81cF754b53E8b3a5684F8b3fF',\n",
       " '0xD77244334f66C1ec58c798218164d20d8e31C355']"
      ]
     },
     "execution_count": 13,
     "metadata": {},
     "output_type": "execute_result"
    }
   ],
   "source": [
    "# check that all accounts were pulled from ./testchain directory successfuly\n",
    "w3.eth.accounts"
   ]
  },
  {
   "cell_type": "markdown",
   "metadata": {},
   "source": [
    "## STEP 5: Compiling contracts with py-solc-x"
   ]
  },
  {
   "cell_type": "code",
   "execution_count": 17,
   "metadata": {},
   "outputs": [
    {
     "ename": "SolcError",
     "evalue": "An error occurred during execution\n> command: `solc --combined-json abi,asm,ast,bin,bin-runtime,clone-bin,devdoc,interface,opcodes,userdoc ./contracts/DeepyrsDividendETHToken.sol`\n> return code: `1`\n> stderr:\n\n> stdout:\nInvalid option to --combined-json: clone-bin",
     "output_type": "error",
     "traceback": [
      "\u001b[0;31m---------------------------------------------------------------------------\u001b[0m",
      "\u001b[0;31mSolcError\u001b[0m                                 Traceback (most recent call last)",
      "\u001b[0;32m<ipython-input-17-e19a11a6b357>\u001b[0m in \u001b[0;36m<module>\u001b[0;34m\u001b[0m\n\u001b[1;32m     10\u001b[0m \u001b[0mcontract_path\u001b[0m \u001b[0;34m=\u001b[0m \u001b[0;34m'./contracts/DeepyrsDividendETHToken.sol'\u001b[0m\u001b[0;34m\u001b[0m\u001b[0m\n\u001b[1;32m     11\u001b[0m \u001b[0mcontract_name\u001b[0m \u001b[0;34m=\u001b[0m \u001b[0;34m'DividendToken'\u001b[0m\u001b[0;34m\u001b[0m\u001b[0m\n\u001b[0;32m---> 12\u001b[0;31m \u001b[0mcontract_interface\u001b[0m \u001b[0;34m=\u001b[0m \u001b[0mcompile_contract\u001b[0m\u001b[0;34m(\u001b[0m\u001b[0mcontract_path\u001b[0m\u001b[0;34m,\u001b[0m \u001b[0mcontract_name\u001b[0m\u001b[0;34m)\u001b[0m\u001b[0;34m\u001b[0m\u001b[0m\n\u001b[0m\u001b[1;32m     13\u001b[0m \u001b[0mprint\u001b[0m\u001b[0;34m(\u001b[0m\u001b[0mcontract_interface\u001b[0m\u001b[0;34m)\u001b[0m\u001b[0;34m\u001b[0m\u001b[0m\n",
      "\u001b[0;32m<ipython-input-17-e19a11a6b357>\u001b[0m in \u001b[0;36mcompile_contract\u001b[0;34m(path, name)\u001b[0m\n\u001b[1;32m      4\u001b[0m \u001b[0;34m\u001b[0m\u001b[0m\n\u001b[1;32m      5\u001b[0m \u001b[0;32mdef\u001b[0m \u001b[0mcompile_contract\u001b[0m\u001b[0;34m(\u001b[0m\u001b[0mpath\u001b[0m\u001b[0;34m,\u001b[0m \u001b[0mname\u001b[0m\u001b[0;34m)\u001b[0m\u001b[0;34m:\u001b[0m\u001b[0;34m\u001b[0m\u001b[0m\n\u001b[0;32m----> 6\u001b[0;31m     \u001b[0mcompiled_contacts\u001b[0m \u001b[0;34m=\u001b[0m \u001b[0msolc\u001b[0m\u001b[0;34m.\u001b[0m\u001b[0mcompile_files\u001b[0m\u001b[0;34m(\u001b[0m\u001b[0;34m[\u001b[0m\u001b[0mpath\u001b[0m\u001b[0;34m]\u001b[0m\u001b[0;34m)\u001b[0m\u001b[0;34m\u001b[0m\u001b[0m\n\u001b[0m\u001b[1;32m      7\u001b[0m     \u001b[0mcontract_interface\u001b[0m \u001b[0;34m=\u001b[0m \u001b[0mcompiled_contacts\u001b[0m\u001b[0;34m[\u001b[0m\u001b[0;34m'{}:{}'\u001b[0m\u001b[0;34m.\u001b[0m\u001b[0mformat\u001b[0m\u001b[0;34m(\u001b[0m\u001b[0mpath\u001b[0m\u001b[0;34m,\u001b[0m \u001b[0mname\u001b[0m\u001b[0;34m)\u001b[0m\u001b[0;34m]\u001b[0m\u001b[0;34m\u001b[0m\u001b[0m\n\u001b[1;32m      8\u001b[0m     \u001b[0;32mreturn\u001b[0m \u001b[0mcontract_interface\u001b[0m\u001b[0;34m\u001b[0m\u001b[0m\n",
      "\u001b[0;32m~/anaconda3/lib/python3.6/site-packages/solc/main.py\u001b[0m in \u001b[0;36mcompile_files\u001b[0;34m(source_files, allow_empty, output_values, **kwargs)\u001b[0m\n\u001b[1;32m    133\u001b[0m     \u001b[0mcompiler_kwargs\u001b[0m \u001b[0;34m=\u001b[0m \u001b[0mdict\u001b[0m\u001b[0;34m(\u001b[0m\u001b[0msource_files\u001b[0m\u001b[0;34m=\u001b[0m\u001b[0msource_files\u001b[0m\u001b[0;34m,\u001b[0m \u001b[0mcombined_json\u001b[0m\u001b[0;34m=\u001b[0m\u001b[0mcombined_json\u001b[0m\u001b[0;34m,\u001b[0m \u001b[0;34m**\u001b[0m\u001b[0mkwargs\u001b[0m\u001b[0;34m)\u001b[0m\u001b[0;34m\u001b[0m\u001b[0m\n\u001b[1;32m    134\u001b[0m \u001b[0;34m\u001b[0m\u001b[0m\n\u001b[0;32m--> 135\u001b[0;31m     \u001b[0mstdoutdata\u001b[0m\u001b[0;34m,\u001b[0m \u001b[0mstderrdata\u001b[0m\u001b[0;34m,\u001b[0m \u001b[0mcommand\u001b[0m\u001b[0;34m,\u001b[0m \u001b[0mproc\u001b[0m \u001b[0;34m=\u001b[0m \u001b[0msolc_wrapper\u001b[0m\u001b[0;34m(\u001b[0m\u001b[0;34m**\u001b[0m\u001b[0mcompiler_kwargs\u001b[0m\u001b[0;34m)\u001b[0m\u001b[0;34m\u001b[0m\u001b[0m\n\u001b[0m\u001b[1;32m    136\u001b[0m \u001b[0;34m\u001b[0m\u001b[0m\n\u001b[1;32m    137\u001b[0m     \u001b[0mcontracts\u001b[0m \u001b[0;34m=\u001b[0m \u001b[0m_parse_compiler_output\u001b[0m\u001b[0;34m(\u001b[0m\u001b[0mstdoutdata\u001b[0m\u001b[0;34m)\u001b[0m\u001b[0;34m\u001b[0m\u001b[0m\n",
      "\u001b[0;32m~/anaconda3/lib/python3.6/site-packages/solc/utils/string.py\u001b[0m in \u001b[0;36minner\u001b[0;34m(*args, **kwargs)\u001b[0m\n\u001b[1;32m     83\u001b[0m     \u001b[0;34m@\u001b[0m\u001b[0mfunctools\u001b[0m\u001b[0;34m.\u001b[0m\u001b[0mwraps\u001b[0m\u001b[0;34m(\u001b[0m\u001b[0mfn\u001b[0m\u001b[0;34m)\u001b[0m\u001b[0;34m\u001b[0m\u001b[0m\n\u001b[1;32m     84\u001b[0m     \u001b[0;32mdef\u001b[0m \u001b[0minner\u001b[0m\u001b[0;34m(\u001b[0m\u001b[0;34m*\u001b[0m\u001b[0margs\u001b[0m\u001b[0;34m,\u001b[0m \u001b[0;34m**\u001b[0m\u001b[0mkwargs\u001b[0m\u001b[0;34m)\u001b[0m\u001b[0;34m:\u001b[0m\u001b[0;34m\u001b[0m\u001b[0m\n\u001b[0;32m---> 85\u001b[0;31m         \u001b[0;32mreturn\u001b[0m \u001b[0mforce_obj_to_text\u001b[0m\u001b[0;34m(\u001b[0m\u001b[0mfn\u001b[0m\u001b[0;34m(\u001b[0m\u001b[0;34m*\u001b[0m\u001b[0margs\u001b[0m\u001b[0;34m,\u001b[0m \u001b[0;34m**\u001b[0m\u001b[0mkwargs\u001b[0m\u001b[0;34m)\u001b[0m\u001b[0;34m)\u001b[0m\u001b[0;34m\u001b[0m\u001b[0m\n\u001b[0m\u001b[1;32m     86\u001b[0m     \u001b[0;32mreturn\u001b[0m \u001b[0minner\u001b[0m\u001b[0;34m\u001b[0m\u001b[0m\n",
      "\u001b[0;32m~/anaconda3/lib/python3.6/site-packages/solc/wrapper.py\u001b[0m in \u001b[0;36msolc_wrapper\u001b[0;34m(solc_binary, stdin, help, version, add_std, combined_json, optimize, optimize_runs, libraries, output_dir, gas, assemble, link, source_files, import_remappings, ast, ast_json, asm, asm_json, opcodes, bin, bin_runtime, clone_bin, abi, interface, hashes, userdoc, devdoc, formal, allow_paths, standard_json, success_return_code, evm_version)\u001b[0m\n\u001b[1;32m    167\u001b[0m             \u001b[0mstdin_data\u001b[0m\u001b[0;34m=\u001b[0m\u001b[0mstdin\u001b[0m\u001b[0;34m,\u001b[0m\u001b[0;34m\u001b[0m\u001b[0m\n\u001b[1;32m    168\u001b[0m             \u001b[0mstdout_data\u001b[0m\u001b[0;34m=\u001b[0m\u001b[0mstdoutdata\u001b[0m\u001b[0;34m,\u001b[0m\u001b[0;34m\u001b[0m\u001b[0m\n\u001b[0;32m--> 169\u001b[0;31m             \u001b[0mstderr_data\u001b[0m\u001b[0;34m=\u001b[0m\u001b[0mstderrdata\u001b[0m\u001b[0;34m,\u001b[0m\u001b[0;34m\u001b[0m\u001b[0m\n\u001b[0m\u001b[1;32m    170\u001b[0m         )\n\u001b[1;32m    171\u001b[0m \u001b[0;34m\u001b[0m\u001b[0m\n",
      "\u001b[0;31mSolcError\u001b[0m: An error occurred during execution\n> command: `solc --combined-json abi,asm,ast,bin,bin-runtime,clone-bin,devdoc,interface,opcodes,userdoc ./contracts/DeepyrsDividendETHToken.sol`\n> return code: `1`\n> stderr:\n\n> stdout:\nInvalid option to --combined-json: clone-bin"
     ]
    }
   ],
   "source": [
    "# compile contract using solcx and return contract interface\n",
    "# arguments are filepath to the contract and name of the contract\n",
    "import solc\n",
    "\n",
    "def compile_contract(path, name):\n",
    "    compiled_contacts = solc.compile_files([path]) --optimize --pretty-json --combined-json abi,bin,interface\n",
    "    contract_interface = compiled_contacts['{}:{}'.format(path, name)]\n",
    "    return contract_interface\n",
    "\n",
    "contract_path = './contracts/DeepyrsDividendETHToken.sol'\n",
    "contract_name = 'DividendToken'\n",
    "contract_interface = compile_contract(contract_path, contract_name)\n",
    "print(contract_interface)"
   ]
  },
  {
   "cell_type": "code",
   "execution_count": 16,
   "metadata": {},
   "outputs": [
    {
     "ename": "ValueError",
     "evalue": "solc version must be in the format v0.x.x",
     "output_type": "error",
     "traceback": [
      "\u001b[0;31m---------------------------------------------------------------------------\u001b[0m",
      "\u001b[0;31mValueError\u001b[0m                                Traceback (most recent call last)",
      "\u001b[0;32m<ipython-input-16-83b584156980>\u001b[0m in \u001b[0;36m<module>\u001b[0;34m\u001b[0m\n\u001b[1;32m      1\u001b[0m \u001b[0;31m# check that py-solc-x and solc are installed correctly\u001b[0m\u001b[0;34m\u001b[0m\u001b[0;34m\u001b[0m\u001b[0m\n\u001b[0;32m----> 2\u001b[0;31m \u001b[0;32mimport\u001b[0m \u001b[0msolcx\u001b[0m\u001b[0;34m\u001b[0m\u001b[0m\n\u001b[0m\u001b[1;32m      3\u001b[0m \u001b[0;34m\u001b[0m\u001b[0m\n\u001b[1;32m      4\u001b[0m \u001b[0msolcx\u001b[0m\u001b[0;34m.\u001b[0m\u001b[0mget_installed_solc_versions\u001b[0m\u001b[0;34m(\u001b[0m\u001b[0;34m)\u001b[0m\u001b[0;34m\u001b[0m\u001b[0m\n",
      "\u001b[0;32m~/anaconda3/lib/python3.6/site-packages/solcx/__init__.py\u001b[0m in \u001b[0;36m<module>\u001b[0;34m\u001b[0m\n\u001b[1;32m     29\u001b[0m     \u001b[0minstall_solc\u001b[0m\u001b[0;34m(\u001b[0m\u001b[0;34m)\u001b[0m\u001b[0;34m\u001b[0m\u001b[0m\n\u001b[1;32m     30\u001b[0m \u001b[0;34m\u001b[0m\u001b[0m\n\u001b[0;32m---> 31\u001b[0;31m \u001b[0mset_solc_version\u001b[0m\u001b[0;34m(\u001b[0m\u001b[0mget_installed_solc_versions\u001b[0m\u001b[0;34m(\u001b[0m\u001b[0;34m)\u001b[0m\u001b[0;34m[\u001b[0m\u001b[0;34m-\u001b[0m\u001b[0;36m1\u001b[0m\u001b[0;34m]\u001b[0m\u001b[0;34m)\u001b[0m\u001b[0;34m\u001b[0m\u001b[0m\n\u001b[0m",
      "\u001b[0;32m~/anaconda3/lib/python3.6/site-packages/solcx/install.py\u001b[0m in \u001b[0;36mset_solc_version\u001b[0;34m(version)\u001b[0m\n\u001b[1;32m     33\u001b[0m \u001b[0;34m\u001b[0m\u001b[0m\n\u001b[1;32m     34\u001b[0m \u001b[0;32mdef\u001b[0m \u001b[0mset_solc_version\u001b[0m\u001b[0;34m(\u001b[0m\u001b[0mversion\u001b[0m \u001b[0;34m=\u001b[0m \u001b[0;32mNone\u001b[0m\u001b[0;34m)\u001b[0m\u001b[0;34m:\u001b[0m\u001b[0;34m\u001b[0m\u001b[0m\n\u001b[0;32m---> 35\u001b[0;31m     \u001b[0mversion\u001b[0m \u001b[0;34m=\u001b[0m \u001b[0m_check_version\u001b[0m\u001b[0;34m(\u001b[0m\u001b[0mversion\u001b[0m\u001b[0;34m)\u001b[0m\u001b[0;34m\u001b[0m\u001b[0m\n\u001b[0m\u001b[1;32m     36\u001b[0m     \u001b[0;32mif\u001b[0m \u001b[0;32mnot\u001b[0m \u001b[0mos\u001b[0m\u001b[0;34m.\u001b[0m\u001b[0mpath\u001b[0m\u001b[0;34m.\u001b[0m\u001b[0mexists\u001b[0m\u001b[0;34m(\u001b[0m\u001b[0mget_executable\u001b[0m\u001b[0;34m(\u001b[0m\u001b[0mversion\u001b[0m\u001b[0;34m)\u001b[0m\u001b[0;34m)\u001b[0m\u001b[0;34m:\u001b[0m\u001b[0;34m\u001b[0m\u001b[0m\n\u001b[1;32m     37\u001b[0m         \u001b[0minstall_solc\u001b[0m\u001b[0;34m(\u001b[0m\u001b[0mversion\u001b[0m\u001b[0;34m)\u001b[0m\u001b[0;34m\u001b[0m\u001b[0m\n",
      "\u001b[0;32m~/anaconda3/lib/python3.6/site-packages/solcx/install.py\u001b[0m in \u001b[0;36m_check_version\u001b[0;34m(version)\u001b[0m\n\u001b[1;32m     67\u001b[0m     \u001b[0mversion\u001b[0m \u001b[0;34m=\u001b[0m \u001b[0;34m\"v0.\"\u001b[0m \u001b[0;34m+\u001b[0m \u001b[0mversion\u001b[0m\u001b[0;34m.\u001b[0m\u001b[0mlstrip\u001b[0m\u001b[0;34m(\u001b[0m\u001b[0;34m\"v0.\"\u001b[0m\u001b[0;34m)\u001b[0m\u001b[0;34m\u001b[0m\u001b[0m\n\u001b[1;32m     68\u001b[0m     \u001b[0;32mif\u001b[0m \u001b[0mversion\u001b[0m\u001b[0;34m.\u001b[0m\u001b[0mcount\u001b[0m\u001b[0;34m(\u001b[0m\u001b[0;34m'.'\u001b[0m\u001b[0;34m)\u001b[0m \u001b[0;34m!=\u001b[0m \u001b[0;36m2\u001b[0m\u001b[0;34m:\u001b[0m\u001b[0;34m\u001b[0m\u001b[0m\n\u001b[0;32m---> 69\u001b[0;31m         \u001b[0;32mraise\u001b[0m \u001b[0mValueError\u001b[0m\u001b[0;34m(\u001b[0m\u001b[0;34m\"solc version must be in the format v0.x.x\"\u001b[0m\u001b[0;34m)\u001b[0m\u001b[0;34m\u001b[0m\u001b[0m\n\u001b[0m\u001b[1;32m     70\u001b[0m     \u001b[0mv\u001b[0m \u001b[0;34m=\u001b[0m \u001b[0;34m[\u001b[0m\u001b[0mint\u001b[0m\u001b[0;34m(\u001b[0m\u001b[0mi\u001b[0m\u001b[0;34m)\u001b[0m \u001b[0;32mfor\u001b[0m \u001b[0mi\u001b[0m \u001b[0;32min\u001b[0m \u001b[0mversion\u001b[0m\u001b[0;34m[\u001b[0m\u001b[0;36m1\u001b[0m\u001b[0;34m:\u001b[0m\u001b[0;34m]\u001b[0m\u001b[0;34m.\u001b[0m\u001b[0msplit\u001b[0m\u001b[0;34m(\u001b[0m\u001b[0;34m'.'\u001b[0m\u001b[0;34m)\u001b[0m\u001b[0;34m]\u001b[0m\u001b[0;34m\u001b[0m\u001b[0m\n\u001b[1;32m     71\u001b[0m     \u001b[0;32mif\u001b[0m \u001b[0mv\u001b[0m\u001b[0;34m[\u001b[0m\u001b[0;36m1\u001b[0m\u001b[0;34m]\u001b[0m \u001b[0;34m<\u001b[0m \u001b[0;36m4\u001b[0m \u001b[0;32mor\u001b[0m \u001b[0;34m(\u001b[0m\u001b[0mv\u001b[0m\u001b[0;34m[\u001b[0m\u001b[0;36m1\u001b[0m\u001b[0;34m]\u001b[0m \u001b[0;34m==\u001b[0m \u001b[0;36m4\u001b[0m \u001b[0;32mand\u001b[0m \u001b[0mv\u001b[0m\u001b[0;34m[\u001b[0m\u001b[0;36m2\u001b[0m\u001b[0;34m]\u001b[0m \u001b[0;34m<\u001b[0m \u001b[0;36m11\u001b[0m\u001b[0;34m)\u001b[0m\u001b[0;34m:\u001b[0m\u001b[0;34m\u001b[0m\u001b[0m\n",
      "\u001b[0;31mValueError\u001b[0m: solc version must be in the format v0.x.x"
     ]
    }
   ],
   "source": [
    "# check that py-solc-x and solc are installed correctly\n",
    "import solcx\n",
    "\n",
    "solcx.get_installed_solc_versions()"
   ]
  },
  {
   "cell_type": "markdown",
   "metadata": {},
   "source": [
    "## STEP 6: Deploying a contract to blockchain\n",
    "In next steps we'll be using some functions from [/scripts/util.py](https://github.com/apguerrera/ethereum-notebooks/blob/master/scripts/util.py) and [/scripts/whitelist.py](https://github.com/apguerrera/ethereum-notebooks/blob/master/scripts/whitelist.py). It's **highly recommended** to check out this Python files to have better understanding of next steps.\n",
    "Also we will pass **w3** instance as an argument to imported functions. We don't use **w3** as global variable since it's possible to have different endpoints thus having more than one w3 object in your program."
   ]
  },
  {
   "cell_type": "code",
   "execution_count": null,
   "metadata": {
    "collapsed": true
   },
   "outputs": [],
   "source": [
    "# import function that decrypts keystore file and returns account object\n",
    "# check out tutorial directory in /scripts/util.py\n",
    "from scripts.util import account_from_key\n",
    "\n",
    "# compile contract, deploy it from account specified, then return transaction hash and contract interface\n",
    "def deploy_contract(w3, account, path, name):\n",
    "    contract_interface = compile_contract(path, name)\n",
    "    contract = w3.eth.contract(abi=contract_interface['abi'], bytecode=contract_interface['bin'])\n",
    "    transaction = contract.constructor().buildTransaction({\n",
    "        'nonce': w3.eth.getTransactionCount(account.address),\n",
    "        'from': account.address\n",
    "    })\n",
    "    signed_transaction = w3.eth.account.signTransaction(transaction, account.privateKey)\n",
    "    tx_hash = w3.eth.sendRawTransaction(signed_transaction.rawTransaction)\n",
    "    return tx_hash.hex(), contract_interface\n",
    "\n",
    "key_path = './testchain/keystore/UTC--2017-05-20T02-37-30.360937280Z--a00af22d07c87d96eeeb0ed583f8f6ac7812827e'\n",
    "key_passphrase = ''  # empty password for test keystore file, never do that in real life\n",
    "account = account_from_key(w3, key_path, key_passphrase)\n",
    "\n",
    "tx_hash, contract_interface = deploy_contract(w3, account, './contracts/WhiteList.sol', 'WhiteList')\n",
    "tx_hash"
   ]
  },
  {
   "cell_type": "markdown",
   "metadata": {},
   "source": [
    "Note: **deploy_contract doesn't return the address of created contract**, it returns hash of transaction made to create the contract\n",
    "\n",
    "To get the address of the contract:"
   ]
  },
  {
   "cell_type": "code",
   "execution_count": null,
   "metadata": {
    "collapsed": true
   },
   "outputs": [],
   "source": [
    "# import function that waits for deploy transaction to be included to block, and returns address of created contract\n",
    "# check out tutorial directory in /scripts/util.py\n",
    "from scripts.util import wait_contract_address\n",
    "\n",
    "contract_address = wait_contract_address(w3, tx_hash)\n",
    "contract_address"
   ]
  },
  {
   "cell_type": "markdown",
   "metadata": {},
   "source": [
    "## STEP 7: Interacting with the contract"
   ]
  },
  {
   "cell_type": "code",
   "execution_count": null,
   "metadata": {
    "collapsed": true
   },
   "outputs": [],
   "source": [
    "# import function that returns contract object using its address and ABI\n",
    "# check out tutorial directory in /scripts/util.py\n",
    "from scripts.util import get_contract\n",
    "\n",
    "contract = get_contract(w3, contract_address, contract_interface['abi'])\n",
    "contract.all_functions()  # get all available functions of the contract"
   ]
  },
  {
   "cell_type": "code",
   "execution_count": null,
   "metadata": {
    "collapsed": true
   },
   "outputs": [],
   "source": [
    "# check out /scripts/util.py and /scripts/whitelist.py\n",
    "from scripts.whitelist import add_to_list\n",
    "from scripts.util import wait_event\n",
    "\n",
    "address_to_add = w3.eth.accounts[17]\n",
    "tx_hash = add_to_list(w3, account, contract, [address_to_add])\n",
    "event_added = wait_event(w3, contract, tx_hash, 'AccountListed')\n",
    "if event_added:\n",
    "    print(event_added[0]['args'])"
   ]
  },
  {
   "cell_type": "code",
   "execution_count": null,
   "metadata": {
    "collapsed": true
   },
   "outputs": [],
   "source": [
    "# check out /scripts/whitelist.py\n",
    "from scripts.whitelist import is_in_list\n",
    "\n",
    "is_in_list(account, contract, address_to_add)  # check if address in whitelist"
   ]
  },
  {
   "cell_type": "code",
   "execution_count": null,
   "metadata": {
    "collapsed": true
   },
   "outputs": [],
   "source": []
  },
  {
   "cell_type": "markdown",
   "metadata": {},
   "source": [
    "## Moving forward\n",
    "Now you know how to compile Solidity contracts using **solc** and **py-solc-x**, deploy contracts using **Web3** and interact with them!\n",
    "\n",
    "To see other code snippets and related information please check out [tutorial's GitHub repo](https://github.com/apguerrera/ethereum-notebooks/) and **WhitelistExample** notebook."
   ]
  },
  {
   "cell_type": "code",
   "execution_count": null,
   "metadata": {
    "collapsed": true
   },
   "outputs": [],
   "source": []
  }
 ],
 "metadata": {
  "kernelspec": {
   "display_name": "Python 3",
   "language": "python",
   "name": "python3"
  },
  "language_info": {
   "codemirror_mode": {
    "name": "ipython",
    "version": 3
   },
   "file_extension": ".py",
   "mimetype": "text/x-python",
   "name": "python",
   "nbconvert_exporter": "python",
   "pygments_lexer": "ipython3",
   "version": "3.6.3"
  }
 },
 "nbformat": 4,
 "nbformat_minor": 2
}
