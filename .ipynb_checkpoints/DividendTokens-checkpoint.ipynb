{
 "cells": [
  {
   "cell_type": "markdown",
   "metadata": {},
   "source": [
    "# Interacting with Ethereum using web3.py and Jupyter Notebooks\n",
    "Step by step guide for setting up a Jupyter notebook, connecting to an Ethereum node and working with a Smart Contract.\n",
    "\n",
    "In this tutorial we are using Python 3, so make sure that **python** and **pip** are versioned correctly.\n",
    "<hr>"
   ]
  },
  {
   "cell_type": "markdown",
   "metadata": {},
   "source": [
    "## STEP 0: Getting tutorial materials\n",
    "\n",
    "Grab a copy of the files that we use in this tutorial:\n",
    "\n",
    "+ Using Git:\n",
    "\n",
    "    <code>git clone https://github.com/apguerrera/ethereum-notebooks.git</code>\n",
    "\n",
    "\n",
    "+ Or download it manually from https://github.com/apguerrera/ethereum-notebooks\n",
    "\n",
    "<hr>"
   ]
  },
  {
   "cell_type": "markdown",
   "metadata": {},
   "source": [
    "## STEP 1: Installing dependencies\n",
    "+ Install [Jupyter](https://jupyter.org/)\n",
    "\n",
    "    <code>pip install --upgrade pip</code>\n",
    "\n",
    "    <code>pip install jupyter</code>\n",
    "\n",
    "\n",
    "+ Install [Web3.py](https://web3py.readthedocs.io/en/stable/), Python module for accessing Ethereum blockchain\n",
    "\n",
    "    <code>pip install web3</code>\n",
    "\n",
    "\n",
    "+ Install [py-solc-x](https://pypi.org/project/py-solc-x/), Python module for compiling Solidity contracts\n",
    "\n",
    "    We use **py-solc-x** instead of **py-solc** to compile contracts, since py-solc doesn't support Solidity versions v.0.5.x.\n",
    "    \n",
    "    Also **py-solc-x** provides an ability to choose between different Solidity compiler versions.\n",
    "    \n",
    "    <code>pip install py-solc-x</code>\n",
    "    \n",
    "    Note: the module itself doesn't contain **solc** executable, so let's install solc executable version 0.5.3 that we use in this tutorial\n",
    "    \n",
    "    <code>python -m solcx.install v0.5.3</code>\n",
    "\n",
    "\n",
    "+ To install Geth go to https://ethereum.org/cli and follow the instructions\n",
    "\n",
    "<hr>"
   ]
  },
  {
   "cell_type": "code",
   "execution_count": null,
   "metadata": {
    "collapsed": true
   },
   "outputs": [],
   "source": [
    "!pip install --upgrade pip\n",
    "!pip install web3"
   ]
  },
  {
   "cell_type": "markdown",
   "metadata": {},
   "source": [
    "## STEP 2: Running local Geth node\n",
    "\n",
    "+ Go to the project directory and run in your terminal:\n",
    "\n",
    " <code>./00_runGeth.sh</code> \n",
    "\n",
    "  + Or use  <code>geth --dev --dev.period 2 --datadir ./testchain --rpc --rpccorsdomain ‘*’ --rpcport 8646 --rpcapi “eth,net,web3,debug” --port 32323 --maxpeers 0 console</code> script which is doing exactly the same\n",
    "\n",
    "\n",
    "\n",
    "<hr>"
   ]
  },
  {
   "cell_type": "markdown",
   "metadata": {},
   "source": [
    "## STEP 3: Running Jupyter notebook\n",
    "\n",
    "**If you're already viewing this notebook in Jupyter live mode, just skip this step.**\n",
    "\n",
    "+ Open Jupyter notebooks by running the following in your terminal:\n",
    "\n",
    "    <code>jupyter notebook</code>\n",
    "    \n",
    "\n",
    "+ If you see an error message, try:\n",
    "\n",
    "    <code>jupyter-notebook</code>\n",
    "\n",
    "It will open up a window in your browser. Here you need to go to the project folder and open <code>EthereumNotebookNew.ipynb</code>\n",
    "\n",
    "<hr>"
   ]
  },
  {
   "cell_type": "markdown",
   "metadata": {},
   "source": [
    "## STEP 4: Conecting to Web3\n",
    "Web3 has a provider type that lets you connect to a local Ethereum node or endpoint such as [Infura](https://infura.io/).\n",
    "\n",
    "In our example, we’ll be connecting to a local Geth node running from the /testchain directory, but can be set to any Ethereum node that web3 can connect to."
   ]
  },
  {
   "cell_type": "code",
   "execution_count": null,
   "metadata": {
    "collapsed": true
   },
   "outputs": [],
   "source": [
    "from web3 import Web3\n",
    "w3 = Web3(Web3.IPCProvider('./testchain/geth.ipc'))\n",
    "w3.isConnected()  # if it's false, something went wrong"
   ]
  },
  {
   "cell_type": "code",
   "execution_count": null,
   "metadata": {
    "collapsed": true
   },
   "outputs": [],
   "source": [
    "# check that all accounts were pulled from ./testchain directory successfuly\n",
    "w3.eth.accounts"
   ]
  },
  {
   "cell_type": "markdown",
   "metadata": {},
   "source": [
    "## STEP 5: Compiling contracts with py-solc-x"
   ]
  },
  {
   "cell_type": "code",
   "execution_count": null,
   "metadata": {
    "collapsed": true
   },
   "outputs": [],
   "source": [
    "# compile contract using solcx and return contract interface\n",
    "# arguments are filepath to the contract and name of the contract\n",
    "\n",
    "def compile_contract(path, name):\n",
    "    compiled_contacts = solcx.compile_files([path])\n",
    "    contract_interface = compiled_contacts['{}:{}'.format(path, name)]\n",
    "    return contract_interface\n",
    "\n",
    "contract_path = './contracts/WhiteList.sol'\n",
    "contract_name = 'WhiteList'\n",
    "contract_interface = compile_contract(contract_path, contract_name)\n",
    "print(contract_interface)"
   ]
  },
  {
   "cell_type": "code",
   "execution_count": null,
   "metadata": {
    "collapsed": true
   },
   "outputs": [],
   "source": [
    "# check that py-solc-x and solc are installed correctly\n",
    "import solcx\n",
    "\n",
    "solcx.get_installed_solc_versions()"
   ]
  },
  {
   "cell_type": "markdown",
   "metadata": {},
   "source": [
    "## STEP 6: Deploying a contract to blockchain\n",
    "In next steps we'll be using some functions from [/scripts/util.py](https://github.com/apguerrera/ethereum-notebooks/blob/master/scripts/util.py) and [/scripts/whitelist.py](https://github.com/apguerrera/ethereum-notebooks/blob/master/scripts/whitelist.py). It's **highly recommended** to check out this Python files to have better understanding of next steps.\n",
    "Also we will pass **w3** instance as an argument to imported functions. We don't use **w3** as global variable since it's possible to have different endpoints thus having more than one w3 object in your program."
   ]
  },
  {
   "cell_type": "code",
   "execution_count": null,
   "metadata": {
    "collapsed": true
   },
   "outputs": [],
   "source": [
    "# import function that decrypts keystore file and returns account object\n",
    "# check out tutorial directory in /scripts/util.py\n",
    "from scripts.util import account_from_key\n",
    "\n",
    "# compile contract, deploy it from account specified, then return transaction hash and contract interface\n",
    "def deploy_contract(w3, account, path, name):\n",
    "    contract_interface = compile_contract(path, name)\n",
    "    contract = w3.eth.contract(abi=contract_interface['abi'], bytecode=contract_interface['bin'])\n",
    "    transaction = contract.constructor().buildTransaction({\n",
    "        'nonce': w3.eth.getTransactionCount(account.address),\n",
    "        'from': account.address\n",
    "    })\n",
    "    signed_transaction = w3.eth.account.signTransaction(transaction, account.privateKey)\n",
    "    tx_hash = w3.eth.sendRawTransaction(signed_transaction.rawTransaction)\n",
    "    return tx_hash.hex(), contract_interface\n",
    "\n",
    "key_path = './testchain/keystore/UTC--2017-05-20T02-37-30.360937280Z--a00af22d07c87d96eeeb0ed583f8f6ac7812827e'\n",
    "key_passphrase = ''  # empty password for test keystore file, never do that in real life\n",
    "account = account_from_key(w3, key_path, key_passphrase)\n",
    "\n",
    "tx_hash, contract_interface = deploy_contract(w3, account, './contracts/WhiteList.sol', 'WhiteList')\n",
    "tx_hash"
   ]
  },
  {
   "cell_type": "markdown",
   "metadata": {},
   "source": [
    "Note: **deploy_contract doesn't return the address of created contract**, it returns hash of transaction made to create the contract\n",
    "\n",
    "To get the address of the contract:"
   ]
  },
  {
   "cell_type": "code",
   "execution_count": null,
   "metadata": {
    "collapsed": true
   },
   "outputs": [],
   "source": [
    "# import function that waits for deploy transaction to be included to block, and returns address of created contract\n",
    "# check out tutorial directory in /scripts/util.py\n",
    "from scripts.util import wait_contract_address\n",
    "\n",
    "contract_address = wait_contract_address(w3, tx_hash)\n",
    "contract_address"
   ]
  },
  {
   "cell_type": "markdown",
   "metadata": {},
   "source": [
    "## STEP 7: Interacting with the contract"
   ]
  },
  {
   "cell_type": "code",
   "execution_count": null,
   "metadata": {
    "collapsed": true
   },
   "outputs": [],
   "source": [
    "# import function that returns contract object using its address and ABI\n",
    "# check out tutorial directory in /scripts/util.py\n",
    "from scripts.util import get_contract\n",
    "\n",
    "contract = get_contract(w3, contract_address, contract_interface['abi'])\n",
    "contract.all_functions()  # get all available functions of the contract"
   ]
  },
  {
   "cell_type": "code",
   "execution_count": null,
   "metadata": {
    "collapsed": true
   },
   "outputs": [],
   "source": [
    "# check out /scripts/util.py and /scripts/whitelist.py\n",
    "from scripts.whitelist import add_to_list\n",
    "from scripts.util import wait_event\n",
    "\n",
    "address_to_add = w3.eth.accounts[17]\n",
    "tx_hash = add_to_list(w3, account, contract, [address_to_add])\n",
    "event_added = wait_event(w3, contract, tx_hash, 'AccountListed')\n",
    "if event_added:\n",
    "    print(event_added[0]['args'])"
   ]
  },
  {
   "cell_type": "code",
   "execution_count": null,
   "metadata": {
    "collapsed": true
   },
   "outputs": [],
   "source": [
    "# check out /scripts/whitelist.py\n",
    "from scripts.whitelist import is_in_list\n",
    "\n",
    "is_in_list(account, contract, address_to_add)  # check if address in whitelist"
   ]
  },
  {
   "cell_type": "code",
   "execution_count": null,
   "metadata": {
    "collapsed": true
   },
   "outputs": [],
   "source": []
  },
  {
   "cell_type": "markdown",
   "metadata": {},
   "source": [
    "## Moving forward\n",
    "Now you know how to compile Solidity contracts using **solc** and **py-solc-x**, deploy contracts using **Web3** and interact with them!\n",
    "\n",
    "To see other code snippets and related information please check out [tutorial's GitHub repo](https://github.com/apguerrera/ethereum-notebooks/) and **WhitelistExample** notebook."
   ]
  },
  {
   "cell_type": "code",
   "execution_count": null,
   "metadata": {
    "collapsed": true
   },
   "outputs": [],
   "source": []
  }
 ],
 "metadata": {
  "kernelspec": {
   "display_name": "Python 3",
   "language": "python",
   "name": "python3"
  },
  "language_info": {
   "codemirror_mode": {
    "name": "ipython",
    "version": 3
   },
   "file_extension": ".py",
   "mimetype": "text/x-python",
   "name": "python",
   "nbconvert_exporter": "python",
   "pygments_lexer": "ipython3",
   "version": "3.6.3"
  }
 },
 "nbformat": 4,
 "nbformat_minor": 2
}
